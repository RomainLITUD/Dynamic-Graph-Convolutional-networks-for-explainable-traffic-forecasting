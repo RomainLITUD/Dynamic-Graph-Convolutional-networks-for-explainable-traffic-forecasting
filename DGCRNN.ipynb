{
 "cells": [
  {
   "cell_type": "code",
   "execution_count": null,
   "metadata": {},
   "outputs": [],
   "source": [
    "from __future__ import print_function\n",
    "import os\n",
    "import tensorflow as tf\n",
    "import keras\n",
    "\n",
    "config = tf.ConfigProto( device_count = {'GPU': 1 , 'CPU': 56} ) \n",
    "sess = tf.Session(config=config) \n",
    "keras.backend.set_session(sess)\n",
    "\n",
    "from custom_model.layers_keras import *\n",
    "from custom_model.model_keras import *\n",
    "from custom_model.math_utils import *\n",
    "from keras import metrics\n",
    "\n",
    "import matplotlib.pyplot as plt\n",
    "%matplotlib inline\n",
    "import h5py\n",
    "import numpy as np\n",
    "\n",
    "import warnings\n",
    "warnings.filterwarnings(\"ignore\")"
   ]
  },
  {
   "cell_type": "code",
   "execution_count": null,
   "metadata": {},
   "outputs": [],
   "source": [
    "dt = 2\n",
    "OBS = 30//dt-1\n",
    "PRED = 20//dt"
   ]
  },
  {
   "cell_type": "code",
   "execution_count": null,
   "metadata": {},
   "outputs": [],
   "source": [
    "Data = h5py.File('Datasets/RRot_cc2_20.h5', 'r')\n",
    "x_train = np.array(Data['Speed_obs_train'])\n",
    "y_train = np.array(Data['Speed_pred_train'])\n",
    "e_train = np.array(Data['E_train'])\n",
    "x_test = np.array(Data['Speed_obs_test'])\n",
    "y_test = np.array(Data['Speed_pred_test'])\n",
    "e_test = np.array(Data['E_test'])\n",
    "\n",
    "x_size = x_train.shape[1:]\n",
    "y_size = y_train.shape[1:]\n",
    "\n",
    "print('x_train shape:', x_train.shape)\n",
    "print('y_train shape:', y_train.shape)\n",
    "print('e_train shape:', e_train.shape)\n",
    "print(x_train.shape[0], 'train samples')\n",
    "print(x_test.shape[0], 'test samples')\n",
    "print(y_train.shape[1:], 'output size')\n",
    "'''\n",
    "x_test = x_test[:3600]\n",
    "y_test = y_test[:3600]\n",
    "e_test = e_test[:3600]\n",
    "\n",
    "x_test = np.delete(x_test, np.s_[3150:3180], axis=0)\n",
    "y_test = np.delete(y_test, np.s_[3150:3180], axis=0)\n",
    "e_test = np.delete(e_test, np.s_[3150:3180], axis=0)\n",
    "\n",
    "x_test = x_test[:1440]\n",
    "y_test = y_test[:1440]\n",
    "e_test = e_test[:1440]\n",
    "\n",
    "x_test = np.delete(x_test, np.s_[1260:1272], axis=0)\n",
    "y_test = np.delete(y_test, np.s_[1260:1272], axis=0)\n",
    "e_test = np.delete(e_test, np.s_[1260:1272], axis=0)\n",
    "'''\n",
    "x_train = x_train[:,-OBS:]\n",
    "x_test = x_test[:,-OBS:]\n",
    "y_train = y_train[:,:PRED]\n",
    "e_train =e_train[:,:PRED]\n",
    "y_test = y_test[:,:PRED]\n",
    "e_test =e_test[:,:PRED]\n",
    "\n",
    "print(x_train.shape)"
   ]
  },
  {
   "cell_type": "code",
   "execution_count": null,
   "metadata": {
    "scrolled": true
   },
   "outputs": [],
   "source": [
    "a,b,c = train_model(x_train, e_train, y_train, x_test, e_test, y_test, \n",
    "            OBS, PRED, decay=1e-2, k_max=5, rf=0, repeat=1, convergence=4, model_name='dfn',dgc_mode='dgc')# for studying"
   ]
  },
  {
   "cell_type": "code",
   "execution_count": null,
   "metadata": {},
   "outputs": [],
   "source": [
    "print(a)\n",
    "print(b)\n",
    "print(c)"
   ]
  },
  {
   "cell_type": "code",
   "execution_count": null,
   "metadata": {},
   "outputs": [],
   "source": [
    "model = create_embed_model(obs_timesteps=OBS, pred_timesteps=PRED, nb_nodes=dim, k=3, \n",
    "                   dgc_mode='dgc',model_name='dfn')"
   ]
  },
  {
   "cell_type": "code",
   "execution_count": null,
   "metadata": {},
   "outputs": [],
   "source": [
    "model.summary()"
   ]
  },
  {
   "cell_type": "code",
   "execution_count": null,
   "metadata": {
    "scrolled": true
   },
   "outputs": [],
   "source": [
    "# Let's train the model\n",
    "opt = keras.optimizers.Adam(lr=0.01, decay=1e-3)\n",
    "\n",
    "model.compile(loss = 'mape',\n",
    "              optimizer=opt,\n",
    "              metrics=['mae',rmse])\n",
    "\n",
    "callbacks = [EarlyStopping(monitor='val_loss', patience=2),\n",
    "             #ModelCheckpoint(filepath='test.h5', save_weights_only=True, monitor='val_loss', save_best_only=True),\n",
    "             ScheduledSampling(k=4)\n",
    "            ]\n",
    "\n",
    "history = model.fit([x_train,e_train], y_train,\n",
    "          epochs=256,\n",
    "          batch_size=256,\n",
    "          callbacks=callbacks,\n",
    "          #validation_data = ([x_val,e_val], y_val),\n",
    "          shuffle='batch',\n",
    "          validation_split = 0.2\n",
    "                   )"
   ]
  },
  {
   "cell_type": "code",
   "execution_count": null,
   "metadata": {},
   "outputs": [],
   "source": [
    "y = model.predict([x_test,e_test])"
   ]
  },
  {
   "cell_type": "code",
   "execution_count": null,
   "metadata": {},
   "outputs": [],
   "source": [
    "for i in range(1,PRED+1):   \n",
    "    print(MAP(y_test[:,:i]*120, y[:,:i]*120), ' ',100*MAPE(y_test[:,:i]*120, y[:,:i]*120), ' ',RMSE(y_test[:,:i]*120, y[:,:i]*120))\n",
    "print('##########')\n",
    "for i in range(PRED):\n",
    "    print(MAP(y_test[:,i]*120, y[:,i]*120), ' ',100*MAPE(y_test[:,i]*120, y[:,i]*120), ' ',RMSE(y_test[:,i]*120, y[:,i]*120))"
   ]
  },
  {
   "cell_type": "code",
   "execution_count": null,
   "metadata": {},
   "outputs": [],
   "source": [
    "from utils_vis import *\n",
    "plotter(history)"
   ]
  },
  {
   "cell_type": "code",
   "execution_count": null,
   "metadata": {},
   "outputs": [],
   "source": [
    "file=h5py.File('load_models/cc_dgfn_dt3.h5','r')\n",
    "weight = []\n",
    "for i in range(len(file.keys())):\n",
    "    weight.append(file['weight'+str(i)][:])\n",
    "model.set_weights(weight)"
   ]
  },
  {
   "cell_type": "code",
   "execution_count": null,
   "metadata": {},
   "outputs": [],
   "source": [
    "file = h5py.File('load_models/cl_dgfn_dt3.h5','w')\n",
    "weight = model.get_weights()\n",
    "for i in range(len(weight)):\n",
    "    file.create_dataset('weight'+str(i),data=weight[i])\n",
    "file.close()"
   ]
  },
  {
   "cell_type": "code",
   "execution_count": null,
   "metadata": {},
   "outputs": [],
   "source": [
    "day = 8\n",
    "start = 150*(day-1)\n",
    "end = start+150\n",
    "j=2\n",
    "gt = [y_test[i] for i in range(start,end,PRED)]\n",
    "pred = [y[i][:j] for i in range(start,end,j)]\n",
    "\n",
    "ground_truth = np.concatenate(gt, axis=0)\n",
    "prediction = np.concatenate(pred, axis=0)\n",
    "\n",
    "print(ground_truth.shape)\n",
    "print(prediction.shape)"
   ]
  },
  {
   "cell_type": "code",
   "execution_count": null,
   "metadata": {},
   "outputs": [],
   "source": [
    "plt.figure(figsize = (10,7))\n",
    "plt.imshow(ground_truth.squeeze().transpose(),aspect = 'auto')\n",
    "plt.title('matrix')\n",
    "plt.colorbar()"
   ]
  },
  {
   "cell_type": "code",
   "execution_count": null,
   "metadata": {},
   "outputs": [],
   "source": [
    "plt.figure(figsize = (10,7))\n",
    "plt.imshow(prediction.squeeze().transpose(),aspect = 'auto')\n",
    "plt.title('matrix')\n",
    "plt.colorbar()"
   ]
  },
  {
   "cell_type": "code",
   "execution_count": null,
   "metadata": {},
   "outputs": [],
   "source": []
  }
 ],
 "metadata": {
  "kernelspec": {
   "display_name": "Python 3",
   "language": "python",
   "name": "python3"
  },
  "language_info": {
   "codemirror_mode": {
    "name": "ipython",
    "version": 3
   },
   "file_extension": ".py",
   "mimetype": "text/x-python",
   "name": "python",
   "nbconvert_exporter": "python",
   "pygments_lexer": "ipython3",
   "version": "3.7.3"
  }
 },
 "nbformat": 4,
 "nbformat_minor": 2
}
